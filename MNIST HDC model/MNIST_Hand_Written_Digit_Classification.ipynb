{
  "nbformat": 4,
  "nbformat_minor": 0,
  "metadata": {
    "colab": {
      "name": "12_11_MNIST_Hand_Written_Digit_Classification.ipynb",
      "provenance": [],
      "collapsed_sections": []
    },
    "kernelspec": {
      "name": "python3",
      "display_name": "Python 3"
    }
  },
  "cells": [
    {
      "cell_type": "code",
      "metadata": {
        "id": "1F7YR-Lqz6hz"
      },
      "source": [
        "import tensorflow.keras as tf\n",
        "import matplotlib.pyplot as plt"
      ],
      "execution_count": null,
      "outputs": []
    },
    {
      "cell_type": "code",
      "metadata": {
        "id": "otGv56BR2Jxw"
      },
      "source": [
        "mnist = tf.datasets.mnist\n",
        "(xtrain,ytrain),(xtest,ytest) = mnist.load_data()"
      ],
      "execution_count": null,
      "outputs": []
    },
    {
      "cell_type": "code",
      "metadata": {
        "id": "CV_lAK8o2LjY",
        "colab": {
          "base_uri": "https://localhost:8080/"
        },
        "outputId": "17bfef61-56de-4204-b8cc-ea76259e8e15"
      },
      "source": [
        "xtrain.shape"
      ],
      "execution_count": null,
      "outputs": [
        {
          "output_type": "execute_result",
          "data": {
            "text/plain": [
              "(60000, 28, 28)"
            ]
          },
          "metadata": {
            "tags": []
          },
          "execution_count": 22
        }
      ]
    },
    {
      "cell_type": "code",
      "metadata": {
        "id": "16RO4X7F2XMu",
        "colab": {
          "base_uri": "https://localhost:8080/"
        },
        "outputId": "09f51cab-da92-4f2b-c594-3cdcf7ee5513"
      },
      "source": [
        "ytrain"
      ],
      "execution_count": null,
      "outputs": [
        {
          "output_type": "execute_result",
          "data": {
            "text/plain": [
              "array([5, 0, 4, ..., 5, 6, 8], dtype=uint8)"
            ]
          },
          "metadata": {
            "tags": []
          },
          "execution_count": 23
        }
      ]
    },
    {
      "cell_type": "code",
      "metadata": {
        "id": "7sQSe9vG2YME",
        "colab": {
          "base_uri": "https://localhost:8080/"
        },
        "outputId": "9cf5b037-6171-4c1a-e9a6-7794c4e7c03f"
      },
      "source": [
        "xtrain[788]"
      ],
      "execution_count": null,
      "outputs": [
        {
          "output_type": "execute_result",
          "data": {
            "text/plain": [
              "array([[  0,   0,   0,   0,   0,   0,   0,   0,   0,   0,   0,   0,   0,\n",
              "          0,   0,   0,   0,   0,   0,   0,   0,   0,   0,   0,   0,   0,\n",
              "          0,   0],\n",
              "       [  0,   0,   0,   0,   0,   0,   0,   0,   0,   0,   0,   0,   0,\n",
              "          0,   0,   0,   0,   0,   0,   0,   0,   0,   0,   0,   0,   0,\n",
              "          0,   0],\n",
              "       [  0,   0,   0,   0,   0,   0,   0,   0,   0,   0,   0,   0,   0,\n",
              "          0,   0,   0,   0,   0,   0,   0,   0,   0,   0,   0,   0,   0,\n",
              "          0,   0],\n",
              "       [  0,   0,   0,   0,   0,   0,   0,   0,   0,   0,   0,   0,   0,\n",
              "          0,   0,   0,   0,   0,   0,   0,   0,   0,   0,   0,   0,   0,\n",
              "          0,   0],\n",
              "       [  0,   0,   0,   0,   0,   0,   0,   0,   0,   0,   0,   0,   0,\n",
              "          0,   0,   0,   0,   0,   0,   0,   0,   0,   0,   0,   0,   0,\n",
              "          0,   0],\n",
              "       [  0,   0,   0,   0,   0,   0,   0,   0,   0,   0,   0,   0,   0,\n",
              "          0,  57, 166, 204, 189,  26,   0,   0,   0,   0,   0,   0,   0,\n",
              "          0,   0],\n",
              "       [  0,   0,   0,   0,   0,   0,   0,   0,   0,   0,   0,   0,   0,\n",
              "         58, 238, 254, 250, 193, 169, 117,  36,   0,   0,   0,   0,   0,\n",
              "          0,   0],\n",
              "       [  0,   0,   0,   0,   0,   0,   0,   0,   0,   0,   0,   0,  14,\n",
              "        200, 255, 209,  25,   3, 217, 254, 174,   0,   0,   0,   0,   0,\n",
              "          0,   0],\n",
              "       [  0,   0,   0,   0,   0,   0,   0,   0,   0,   0,   0,   0, 128,\n",
              "        254, 204,  21,   0,   5, 254, 254,  99,   0,   0,   0,   0,   0,\n",
              "          0,   0],\n",
              "       [  0,   0,   0,   0,   0,   0,   0,   0,   0,   0,   0,  38, 252,\n",
              "        249,  79,   0,   0,  45, 254, 254,  22,   0,   0,   0,   0,   0,\n",
              "          0,   0],\n",
              "       [  0,   0,   0,   0,   0,   0,   0,   0,   0,   0,   0,  89, 254,\n",
              "        217,  11,   0,   0,  95, 254, 228,  14,   0,   0,   0,   0,   0,\n",
              "          0,   0],\n",
              "       [  0,   0,   0,   0,   0,   0,   0,   0,   0,   0,   4, 201, 254,\n",
              "        166,   0,   0,   0,  95, 254, 127,   0,   0,   0,   0,   0,   0,\n",
              "          0,   0],\n",
              "       [  0,   0,   0,   0,   0,   0,   0,   0,   0,   0,  35, 254, 254,\n",
              "         19,   0,   0,   0, 182, 254,  98,   0,   0,   0,   0,   0,   0,\n",
              "          0,   0],\n",
              "       [  0,   0,   0,   0,   0,   0,   0,   0,   0,   6, 166, 254, 167,\n",
              "          2,   0,   0,  58, 250, 254,  15,   0,   0,   0,   0,   0,   0,\n",
              "          0,   0],\n",
              "       [  0,   0,   0,   0,   0,   0,   0,   0,   0,  23, 254, 254,  15,\n",
              "          0,   0,   6, 207, 254, 212,   4,   0,   0,   0,   0,   0,   0,\n",
              "          0,   0],\n",
              "       [  0,   0,   0,   0,   0,   0,   0,   0,   0, 139, 254, 214,   2,\n",
              "          0,   0, 180, 254, 254, 100,   0,   0,   0,   0,   0,   0,   0,\n",
              "          0,   0],\n",
              "       [  0,   0,   0,   0,   0,   0,   0,   0,  16, 224, 251,  67,   0,\n",
              "          0,  80, 245, 254, 253,  49,   0,   0,   0,   0,   0,   0,   0,\n",
              "          0,   0],\n",
              "       [  0,   0,   0,   0,   0,   0,   0,   0,  36, 254, 246,   0,   2,\n",
              "         89, 235, 251, 254, 250,   0,   0,   0,   0,   0,   0,   0,   0,\n",
              "          0,   0],\n",
              "       [  0,   0,   0,   0,   0,   0,   0,   0,  36, 254, 246,   0, 128,\n",
              "        254, 240,  62, 254, 250,   0,   0,   0,   0,   0,   0,   0,   0,\n",
              "          0,   0],\n",
              "       [  0,   0,   0,   0,   0,   0,   0,   0,  36, 254, 251, 157, 253,\n",
              "        239,  60,  32, 254, 250,   0,   0,   0,   0,   0,   0,   0,   0,\n",
              "          0,   0],\n",
              "       [  0,   0,   0,   0,   0,   0,   0,   0,  16, 206, 254, 254, 239,\n",
              "         61,   0,  32, 254, 250,   0,   0,   0,   0,   0,   0,   0,   0,\n",
              "          0,   0],\n",
              "       [  0,   0,   0,   0,   0,   0,   0,   0,   0,  32, 214, 184,  27,\n",
              "          0,   0,  27, 245, 250,   0,   0,   0,   0,   0,   0,   0,   0,\n",
              "          0,   0],\n",
              "       [  0,   0,   0,   0,   0,   0,   0,   0,   0,   0,   0,   0,   0,\n",
              "          0,   0,   0, 197, 250,   9,   0,   0,   0,   0,   0,   0,   0,\n",
              "          0,   0],\n",
              "       [  0,   0,   0,   0,   0,   0,   0,   0,   0,   0,   0,   0,   0,\n",
              "          0,   0,   0, 197, 254,  85,   0,   0,   0,   0,   0,   0,   0,\n",
              "          0,   0],\n",
              "       [  0,   0,   0,   0,   0,   0,   0,   0,   0,   0,   0,   0,   0,\n",
              "          0,   0,   0,  65, 230,  85,   0,   0,   0,   0,   0,   0,   0,\n",
              "          0,   0],\n",
              "       [  0,   0,   0,   0,   0,   0,   0,   0,   0,   0,   0,   0,   0,\n",
              "          0,   0,   0,   0,   0,   0,   0,   0,   0,   0,   0,   0,   0,\n",
              "          0,   0],\n",
              "       [  0,   0,   0,   0,   0,   0,   0,   0,   0,   0,   0,   0,   0,\n",
              "          0,   0,   0,   0,   0,   0,   0,   0,   0,   0,   0,   0,   0,\n",
              "          0,   0],\n",
              "       [  0,   0,   0,   0,   0,   0,   0,   0,   0,   0,   0,   0,   0,\n",
              "          0,   0,   0,   0,   0,   0,   0,   0,   0,   0,   0,   0,   0,\n",
              "          0,   0]], dtype=uint8)"
            ]
          },
          "metadata": {
            "tags": []
          },
          "execution_count": 24
        }
      ]
    },
    {
      "cell_type": "code",
      "metadata": {
        "id": "va195NRH2Zvs",
        "colab": {
          "base_uri": "https://localhost:8080/",
          "height": 265
        },
        "outputId": "991666b8-2799-469a-abe7-0189d6d1c51e"
      },
      "source": [
        "plt.imshow(xtrain[788])    # bgr\n",
        "plt.show()"
      ],
      "execution_count": null,
      "outputs": [
        {
          "output_type": "display_data",
          "data": {
            "image/png": "[encoded data removed]",
            "text/plain": [
              "<Figure size 432x288 with 1 Axes>"
            ]
          },
          "metadata": {
            "tags": [],
            "needs_background": "light"
          }
        }
      ]
    },
    {
      "cell_type": "code",
      "metadata": {
        "id": "4JV6B5ng28gf",
        "colab": {
          "base_uri": "https://localhost:8080/",
          "height": 265
        },
        "outputId": "1e813e06-5422-47a4-abab-175207f624ec"
      },
      "source": [
        "plt.imshow(xtrain[59999], cmap=\"gray\")   # grayscale\n",
        "plt.show()"
      ],
      "execution_count": null,
      "outputs": [
        {
          "output_type": "display_data",
          "data": {
            "image/png": "[encoded data removed]",
            "text/plain": [
              "<Figure size 432x288 with 1 Axes>"
            ]
          },
          "metadata": {
            "tags": [],
            "needs_background": "light"
          }
        }
      ]
    },
    {
      "cell_type": "code",
      "metadata": {
        "id": "838cj9FE20Hi"
      },
      "source": [
        "#### Create a neural Network\n",
        "model = tf.models.Sequential()  # blank empty model\n",
        "model.add(tf.layers.Flatten())\n",
        "model.add(tf.layers.Dense(784, activation = \"relu\"))    # no. of neurons here --> multiple of 16\n",
        "model.add(tf.layers.Dense(10, activation = \"softmax\"))   # don't use sigmoid in case of mullticlass\n",
        "model.compile(optimizer = \"adam\", loss = \"sparse_categorical_crossentropy\", metrics = [\"accuracy\"])    # adam --> weight optimizer\n"
      ],
      "execution_count": null,
      "outputs": []
    },
    {
      "cell_type": "code",
      "metadata": {
        "id": "veXvrgJy2w0j"
      },
      "source": [
        "### Scale the data\n",
        "xtrain = xtrain/255   # to increase the accuracy\n",
        "xtest = xtest/255"
      ],
      "execution_count": null,
      "outputs": []
    },
    {
      "cell_type": "code",
      "metadata": {
        "id": "6Ml6Ulic5uHD",
        "colab": {
          "base_uri": "https://localhost:8080/"
        },
        "outputId": "2a7d48d9-b399-4002-d217-90ed91b9bd6d"
      },
      "source": [
        "### Train the model\n",
        "model.fit(xtrain, ytrain, epochs = 20)"
      ],
      "execution_count": null,
      "outputs": [
        {
          "output_type": "stream",
          "text": [
            "Epoch 1/20\n",
            "1875/1875 [==============================] - 10s 5ms/step - loss: 0.1892 - accuracy: 0.9446\n",
            "Epoch 2/20\n",
            "1875/1875 [==============================] - 9s 5ms/step - loss: 0.0775 - accuracy: 0.9761\n",
            "Epoch 3/20\n",
            "1875/1875 [==============================] - 10s 5ms/step - loss: 0.0504 - accuracy: 0.9835\n",
            "Epoch 4/20\n",
            "1875/1875 [==============================] - 10s 5ms/step - loss: 0.0344 - accuracy: 0.9886\n",
            "Epoch 5/20\n",
            "1875/1875 [==============================] - 10s 5ms/step - loss: 0.0258 - accuracy: 0.9916\n",
            "Epoch 6/20\n",
            "1875/1875 [==============================] - 11s 6ms/step - loss: 0.0182 - accuracy: 0.9940\n",
            "Epoch 7/20\n",
            "1875/1875 [==============================] - 11s 6ms/step - loss: 0.0189 - accuracy: 0.9940\n",
            "Epoch 8/20\n",
            "1875/1875 [==============================] - 10s 5ms/step - loss: 0.0136 - accuracy: 0.9956\n",
            "Epoch 9/20\n",
            "1875/1875 [==============================] - 10s 5ms/step - loss: 0.0128 - accuracy: 0.9956\n",
            "Epoch 10/20\n",
            "1875/1875 [==============================] - 10s 5ms/step - loss: 0.0108 - accuracy: 0.9965\n",
            "Epoch 11/20\n",
            "1875/1875 [==============================] - 10s 5ms/step - loss: 0.0112 - accuracy: 0.9962\n",
            "Epoch 12/20\n",
            "1875/1875 [==============================] - 10s 5ms/step - loss: 0.0104 - accuracy: 0.9966\n",
            "Epoch 13/20\n",
            "1875/1875 [==============================] - 10s 5ms/step - loss: 0.0086 - accuracy: 0.9971\n",
            "Epoch 14/20\n",
            "1875/1875 [==============================] - 10s 5ms/step - loss: 0.0088 - accuracy: 0.9971\n",
            "Epoch 15/20\n",
            "1875/1875 [==============================] - 10s 5ms/step - loss: 0.0072 - accuracy: 0.9974\n",
            "Epoch 16/20\n",
            "1875/1875 [==============================] - 10s 5ms/step - loss: 0.0085 - accuracy: 0.9974\n",
            "Epoch 17/20\n",
            "1875/1875 [==============================] - 10s 5ms/step - loss: 0.0051 - accuracy: 0.9983\n",
            "Epoch 18/20\n",
            "1875/1875 [==============================] - 10s 5ms/step - loss: 0.0088 - accuracy: 0.9973\n",
            "Epoch 19/20\n",
            "1875/1875 [==============================] - 10s 5ms/step - loss: 0.0072 - accuracy: 0.9977\n",
            "Epoch 20/20\n",
            "1875/1875 [==============================] - 10s 5ms/step - loss: 0.0080 - accuracy: 0.9978\n"
          ],
          "name": "stdout"
        },
        {
          "output_type": "execute_result",
          "data": {
            "text/plain": [
              "<tensorflow.python.keras.callbacks.History at 0x7ffa4707c898>"
            ]
          },
          "metadata": {
            "tags": []
          },
          "execution_count": 29
        }
      ]
    },
    {
      "cell_type": "code",
      "metadata": {
        "id": "xi3WN-825vBA"
      },
      "source": [
        "ypred = model.predict(xtest)\n"
      ],
      "execution_count": null,
      "outputs": []
    },
    {
      "cell_type": "code",
      "metadata": {
        "id": "kxjuokwT8QWb",
        "colab": {
          "base_uri": "https://localhost:8080/"
        },
        "outputId": "119c59be-046e-40ed-b772-590839a914ce"
      },
      "source": [
        "ytest[5550]"
      ],
      "execution_count": null,
      "outputs": [
        {
          "output_type": "execute_result",
          "data": {
            "text/plain": [
              "1"
            ]
          },
          "metadata": {
            "tags": []
          },
          "execution_count": 31
        }
      ]
    },
    {
      "cell_type": "code",
      "metadata": {
        "id": "bDTuQ7-Z8R5j",
        "colab": {
          "base_uri": "https://localhost:8080/"
        },
        "outputId": "376b5404-cc67-45e1-f528-ebbe8df088ac"
      },
      "source": [
        "ypred[5550]"
      ],
      "execution_count": null,
      "outputs": [
        {
          "output_type": "execute_result",
          "data": {
            "text/plain": [
              "array([1.1209530e-19, 9.9999964e-01, 1.7320381e-19, 9.2830406e-19,\n",
              "       2.8822389e-10, 1.1159640e-14, 3.2131290e-12, 1.5156780e-11,\n",
              "       3.8725869e-07, 6.4798497e-16], dtype=float32)"
            ]
          },
          "metadata": {
            "tags": []
          },
          "execution_count": 32
        }
      ]
    },
    {
      "cell_type": "code",
      "metadata": {
        "id": "X7M1_7RR8TMr",
        "colab": {
          "base_uri": "https://localhost:8080/"
        },
        "outputId": "f96cd81a-595b-4fe5-ced7-3554864e25cd"
      },
      "source": [
        "import numpy as np\n",
        "np.argmax(ypred[5550])"
      ],
      "execution_count": null,
      "outputs": [
        {
          "output_type": "execute_result",
          "data": {
            "text/plain": [
              "1"
            ]
          },
          "metadata": {
            "tags": []
          },
          "execution_count": 33
        }
      ]
    },
    {
      "cell_type": "code",
      "metadata": {
        "id": "QI7eX7WQ8XSv",
        "colab": {
          "base_uri": "https://localhost:8080/"
        },
        "outputId": "04f7e8e4-8510-461c-a24f-6e9a711d5ac6"
      },
      "source": [
        "model.evaluate(xtest, ytest)"
      ],
      "execution_count": null,
      "outputs": [
        {
          "output_type": "stream",
          "text": [
            "313/313 [==============================] - 1s 2ms/step - loss: 0.1221 - accuracy: 0.9819\n"
          ],
          "name": "stdout"
        },
        {
          "output_type": "execute_result",
          "data": {
            "text/plain": [
              "[0.12206660211086273, 0.9818999767303467]"
            ]
          },
          "metadata": {
            "tags": []
          },
          "execution_count": 34
        }
      ]
    },
    {
      "cell_type": "code",
      "metadata": {
        "id": "H6HYiZne8Z8U",
        "colab": {
          "base_uri": "https://localhost:8080/"
        },
        "outputId": "57fbb58b-d106-4553-aa58-4110f10bbee6"
      },
      "source": [
        "from sklearn.metrics import confusion_matrix\n",
        "cm = confusion_matrix(ytest, np.argmax(ypred, axis = 1))\n",
        "cm"
      ],
      "execution_count": null,
      "outputs": [
        {
          "output_type": "execute_result",
          "data": {
            "text/plain": [
              "array([[ 970,    1,    0,    0,    1,    0,    4,    1,    3,    0],\n",
              "       [   0, 1124,    1,    2,    0,    1,    2,    1,    4,    0],\n",
              "       [   4,    0, 1004,    5,    2,    0,    1,    8,    8,    0],\n",
              "       [   1,    0,    3,  992,    0,    4,    0,    3,    3,    4],\n",
              "       [   0,    0,    4,    1,  967,    0,    1,    2,    0,    7],\n",
              "       [   2,    0,    0,   11,    1,  868,    3,    1,    5,    1],\n",
              "       [   1,    4,    0,    1,    3,    2,  946,    0,    1,    0],\n",
              "       [   1,    0,    4,    2,    1,    0,    0, 1013,    3,    4],\n",
              "       [   0,    1,    3,    2,    6,    0,    2,    3,  956,    1],\n",
              "       [   3,    2,    0,    4,   10,    3,    0,    6,    2,  979]])"
            ]
          },
          "metadata": {
            "tags": []
          },
          "execution_count": 35
        }
      ]
    },
    {
      "cell_type": "code",
      "metadata": {
        "id": "T3oZeNLh9Hbs",
        "colab": {
          "base_uri": "https://localhost:8080/"
        },
        "outputId": "4ff096a0-c18d-474f-d0fb-becb983599f4"
      },
      "source": [
        "from sklearn.metrics import accuracy_score\n",
        "a = accuracy_score(ytest, np.argmax(ypred, axis = 1))\n",
        "a"
      ],
      "execution_count": null,
      "outputs": [
        {
          "output_type": "execute_result",
          "data": {
            "text/plain": [
              "0.9819"
            ]
          },
          "metadata": {
            "tags": []
          },
          "execution_count": 36
        }
      ]
    },
    {
      "cell_type": "code",
      "metadata": {
        "id": "KWf-7bNJ9O8P"
      },
      "source": [
        ""
      ],
      "execution_count": null,
      "outputs": []
    },
    {
      "cell_type": "code",
      "metadata": {
        "id": "hcZfMY9v5vOp"
      },
      "source": [
        ""
      ],
      "execution_count": null,
      "outputs": []
    }
  ]
}